{
  "nbformat": 4,
  "nbformat_minor": 0,
  "metadata": {
    "colab": {
      "provenance": [],
      "toc_visible": true,
      "authorship_tag": "ABX9TyPT/UY2cBvErG+H28ex03bl",
      "include_colab_link": true
    },
    "kernelspec": {
      "name": "python3",
      "display_name": "Python 3"
    },
    "language_info": {
      "name": "python"
    }
  },
  "cells": [
    {
      "cell_type": "markdown",
      "metadata": {
        "id": "view-in-github",
        "colab_type": "text"
      },
      "source": [
        "<a href=\"https://colab.research.google.com/github/Nwanne97/Hotel_Cancellations/blob/main/Electric_Motorcycles.ipynb\" target=\"_parent\"><img src=\"https://colab.research.google.com/assets/colab-badge.svg\" alt=\"Open In Colab\"/></a>"
      ]
    },
    {
      "cell_type": "code",
      "source": [
        "from google.colab import files\n",
        "uploaded = files.upload()"
      ],
      "metadata": {
        "colab": {
          "base_uri": "https://localhost:8080/",
          "height": 73
        },
        "id": "LJUDQ8UHKTwK",
        "outputId": "f9c188fa-be36-4e7c-fdbc-0a9806228afc"
      },
      "execution_count": 1,
      "outputs": [
        {
          "output_type": "display_data",
          "data": {
            "text/plain": [
              "<IPython.core.display.HTML object>"
            ],
            "text/html": [
              "\n",
              "     <input type=\"file\" id=\"files-ba6164e5-f137-49ae-b6a1-7276623fc855\" name=\"files[]\" multiple disabled\n",
              "        style=\"border:none\" />\n",
              "     <output id=\"result-ba6164e5-f137-49ae-b6a1-7276623fc855\">\n",
              "      Upload widget is only available when the cell has been executed in the\n",
              "      current browser session. Please rerun this cell to enable.\n",
              "      </output>\n",
              "      <script>// Copyright 2017 Google LLC\n",
              "//\n",
              "// Licensed under the Apache License, Version 2.0 (the \"License\");\n",
              "// you may not use this file except in compliance with the License.\n",
              "// You may obtain a copy of the License at\n",
              "//\n",
              "//      http://www.apache.org/licenses/LICENSE-2.0\n",
              "//\n",
              "// Unless required by applicable law or agreed to in writing, software\n",
              "// distributed under the License is distributed on an \"AS IS\" BASIS,\n",
              "// WITHOUT WARRANTIES OR CONDITIONS OF ANY KIND, either express or implied.\n",
              "// See the License for the specific language governing permissions and\n",
              "// limitations under the License.\n",
              "\n",
              "/**\n",
              " * @fileoverview Helpers for google.colab Python module.\n",
              " */\n",
              "(function(scope) {\n",
              "function span(text, styleAttributes = {}) {\n",
              "  const element = document.createElement('span');\n",
              "  element.textContent = text;\n",
              "  for (const key of Object.keys(styleAttributes)) {\n",
              "    element.style[key] = styleAttributes[key];\n",
              "  }\n",
              "  return element;\n",
              "}\n",
              "\n",
              "// Max number of bytes which will be uploaded at a time.\n",
              "const MAX_PAYLOAD_SIZE = 100 * 1024;\n",
              "\n",
              "function _uploadFiles(inputId, outputId) {\n",
              "  const steps = uploadFilesStep(inputId, outputId);\n",
              "  const outputElement = document.getElementById(outputId);\n",
              "  // Cache steps on the outputElement to make it available for the next call\n",
              "  // to uploadFilesContinue from Python.\n",
              "  outputElement.steps = steps;\n",
              "\n",
              "  return _uploadFilesContinue(outputId);\n",
              "}\n",
              "\n",
              "// This is roughly an async generator (not supported in the browser yet),\n",
              "// where there are multiple asynchronous steps and the Python side is going\n",
              "// to poll for completion of each step.\n",
              "// This uses a Promise to block the python side on completion of each step,\n",
              "// then passes the result of the previous step as the input to the next step.\n",
              "function _uploadFilesContinue(outputId) {\n",
              "  const outputElement = document.getElementById(outputId);\n",
              "  const steps = outputElement.steps;\n",
              "\n",
              "  const next = steps.next(outputElement.lastPromiseValue);\n",
              "  return Promise.resolve(next.value.promise).then((value) => {\n",
              "    // Cache the last promise value to make it available to the next\n",
              "    // step of the generator.\n",
              "    outputElement.lastPromiseValue = value;\n",
              "    return next.value.response;\n",
              "  });\n",
              "}\n",
              "\n",
              "/**\n",
              " * Generator function which is called between each async step of the upload\n",
              " * process.\n",
              " * @param {string} inputId Element ID of the input file picker element.\n",
              " * @param {string} outputId Element ID of the output display.\n",
              " * @return {!Iterable<!Object>} Iterable of next steps.\n",
              " */\n",
              "function* uploadFilesStep(inputId, outputId) {\n",
              "  const inputElement = document.getElementById(inputId);\n",
              "  inputElement.disabled = false;\n",
              "\n",
              "  const outputElement = document.getElementById(outputId);\n",
              "  outputElement.innerHTML = '';\n",
              "\n",
              "  const pickedPromise = new Promise((resolve) => {\n",
              "    inputElement.addEventListener('change', (e) => {\n",
              "      resolve(e.target.files);\n",
              "    });\n",
              "  });\n",
              "\n",
              "  const cancel = document.createElement('button');\n",
              "  inputElement.parentElement.appendChild(cancel);\n",
              "  cancel.textContent = 'Cancel upload';\n",
              "  const cancelPromise = new Promise((resolve) => {\n",
              "    cancel.onclick = () => {\n",
              "      resolve(null);\n",
              "    };\n",
              "  });\n",
              "\n",
              "  // Wait for the user to pick the files.\n",
              "  const files = yield {\n",
              "    promise: Promise.race([pickedPromise, cancelPromise]),\n",
              "    response: {\n",
              "      action: 'starting',\n",
              "    }\n",
              "  };\n",
              "\n",
              "  cancel.remove();\n",
              "\n",
              "  // Disable the input element since further picks are not allowed.\n",
              "  inputElement.disabled = true;\n",
              "\n",
              "  if (!files) {\n",
              "    return {\n",
              "      response: {\n",
              "        action: 'complete',\n",
              "      }\n",
              "    };\n",
              "  }\n",
              "\n",
              "  for (const file of files) {\n",
              "    const li = document.createElement('li');\n",
              "    li.append(span(file.name, {fontWeight: 'bold'}));\n",
              "    li.append(span(\n",
              "        `(${file.type || 'n/a'}) - ${file.size} bytes, ` +\n",
              "        `last modified: ${\n",
              "            file.lastModifiedDate ? file.lastModifiedDate.toLocaleDateString() :\n",
              "                                    'n/a'} - `));\n",
              "    const percent = span('0% done');\n",
              "    li.appendChild(percent);\n",
              "\n",
              "    outputElement.appendChild(li);\n",
              "\n",
              "    const fileDataPromise = new Promise((resolve) => {\n",
              "      const reader = new FileReader();\n",
              "      reader.onload = (e) => {\n",
              "        resolve(e.target.result);\n",
              "      };\n",
              "      reader.readAsArrayBuffer(file);\n",
              "    });\n",
              "    // Wait for the data to be ready.\n",
              "    let fileData = yield {\n",
              "      promise: fileDataPromise,\n",
              "      response: {\n",
              "        action: 'continue',\n",
              "      }\n",
              "    };\n",
              "\n",
              "    // Use a chunked sending to avoid message size limits. See b/62115660.\n",
              "    let position = 0;\n",
              "    do {\n",
              "      const length = Math.min(fileData.byteLength - position, MAX_PAYLOAD_SIZE);\n",
              "      const chunk = new Uint8Array(fileData, position, length);\n",
              "      position += length;\n",
              "\n",
              "      const base64 = btoa(String.fromCharCode.apply(null, chunk));\n",
              "      yield {\n",
              "        response: {\n",
              "          action: 'append',\n",
              "          file: file.name,\n",
              "          data: base64,\n",
              "        },\n",
              "      };\n",
              "\n",
              "      let percentDone = fileData.byteLength === 0 ?\n",
              "          100 :\n",
              "          Math.round((position / fileData.byteLength) * 100);\n",
              "      percent.textContent = `${percentDone}% done`;\n",
              "\n",
              "    } while (position < fileData.byteLength);\n",
              "  }\n",
              "\n",
              "  // All done.\n",
              "  yield {\n",
              "    response: {\n",
              "      action: 'complete',\n",
              "    }\n",
              "  };\n",
              "}\n",
              "\n",
              "scope.google = scope.google || {};\n",
              "scope.google.colab = scope.google.colab || {};\n",
              "scope.google.colab._files = {\n",
              "  _uploadFiles,\n",
              "  _uploadFilesContinue,\n",
              "};\n",
              "})(self);\n",
              "</script> "
            ]
          },
          "metadata": {}
        },
        {
          "output_type": "stream",
          "name": "stdout",
          "text": [
            "Saving electric_bike_ratings_2212 (1).csv to electric_bike_ratings_2212 (1).csv\n"
          ]
        }
      ]
    },
    {
      "cell_type": "markdown",
      "source": [
        "# Background\n",
        "EMO is a manufacturer of electric motorcycles.\n",
        "EMO launched its first electric motorcycle in India in 2019.\n",
        "The product team has been asking website users to rate the motorcycles.\n",
        "Ratings from owners help the product team to improve the quality of the motorcycles.\n",
        "Ratings from non-owners help the product team add new features. They hope the new\n",
        "features will increase the number of new customers.\n",
        "The product team wants to extend the survey. But, they want to be sure they can predict\n",
        "whether the ratings came from owners or non-owners.\n"
      ],
      "metadata": {
        "id": "pdfXuIhL-85u"
      }
    },
    {
      "cell_type": "markdown",
      "source": [
        "## Data\n",
        "The dataset contains rating information about mopeds collected by the product team."
      ],
      "metadata": {
        "id": "nWSuU_KT_sh6"
      }
    },
    {
      "cell_type": "markdown",
      "source": [
        "# Tasks\n",
        "\n",
        "\n",
        "1. For every column in the data:\n",
        "a. State whether the values match the description given in the table above.\n",
        "b. State the number of missing values in the column\n",
        "c. Describe what you did to make values match the description if they did not\n",
        "match.\n",
        "2. Create a visualization that shows how many reviews were from owners and how many\n",
        "were not owners. Use the visualization to:\n",
        "a. State which category of the variable owned has the most number of\n",
        "observations\n",
        "b. Explain whether the observations are balanced across categories of the\n",
        "variable owned\n",
        "3. Describe the distribution of the overall rating across the possible values. Your answer\n",
        "must include a visualization that shows the distribution.\n",
        "4. Describe the relationship between ownership and overall rating. Your answer must\n",
        "include a visualization to demonstrate the relationship.\n",
        "5. The business wants to predict whether a review came from an owner or not using the\n",
        "data provided. State the type of machine learning problem that this is\n",
        "(regression/classification/clustering).\n",
        "6. Fit a baseline model to predict whether a review came from an owner or not using the\n",
        "data provided. You must include your code.\n",
        "7. Fit a comparison model to predict whether a review came from an owner or not using\n",
        "the data provided. You must include your code.\n",
        "8. Explain why you chose the two models used in parts 6 and 7.\n",
        "9. Compare the performance of the two models used in parts 6 and 7, using any method\n",
        "suitable for the type of model. You must include your code.\n",
        "10. Explain which model performs better and why."
      ],
      "metadata": {
        "id": "c-cuIVE0__3n"
      }
    },
    {
      "cell_type": "markdown",
      "source": [
        "## Task 1 \n",
        "### Data Validation\n",
        "### Cross checking all variables in the dataset with the required criteria"
      ],
      "metadata": {
        "id": "Gjwew0OpK-Ui"
      }
    },
    {
      "cell_type": "code",
      "source": [
        "# importing required modules\n",
        "\n",
        "import pandas as pd\n",
        "import numpy as np\n",
        "import matplotlib.pyplot as plt\n",
        "import seaborn as sns\n",
        "\n",
        "# Loading the dataset\n",
        "\n",
        "df = pd.read_csv('electric_bike_ratings_2212 (1).csv')\n",
        "\n",
        "# Removing the day from 'review_month' column\n",
        "df['review_month'] = df['review_month'].str.replace('\\d+', '')\n",
        "df['review_month'] = df['review_month'].str.replace('-', '')\n",
        "\n",
        "# Removing the '/10' from the value_for_money column\n",
        "df['value_for_money'] = df['value_for_money'].str.replace('/10', '')\n",
        "\n",
        "df.info()\n",
        "df.isna().sum()\n",
        "print((df['reviewer_age'] == '-').sum())"
      ],
      "metadata": {
        "id": "-H-jYQUqKh45",
        "colab": {
          "base_uri": "https://localhost:8080/"
        },
        "outputId": "bbd5fd9c-1469-4f53-aaff-7bd7df1acd8f"
      },
      "execution_count": null,
      "outputs": [
        {
          "output_type": "stream",
          "name": "stdout",
          "text": [
            "<class 'pandas.core.frame.DataFrame'>\n",
            "RangeIndex: 1500 entries, 0 to 1499\n",
            "Data columns (total 8 columns):\n",
            " #   Column           Non-Null Count  Dtype  \n",
            "---  ------           --------------  -----  \n",
            " 0   owned            1500 non-null   int64  \n",
            " 1   make_model       1500 non-null   object \n",
            " 2   review_month     1500 non-null   object \n",
            " 3   web_browser      1350 non-null   object \n",
            " 4   reviewer_age     1500 non-null   object \n",
            " 5   primary_use      1500 non-null   object \n",
            " 6   value_for_money  1500 non-null   object \n",
            " 7   overall_rating   1500 non-null   float64\n",
            "dtypes: float64(1), int64(1), object(6)\n",
            "memory usage: 93.9+ KB\n",
            "105\n"
          ]
        },
        {
          "output_type": "stream",
          "name": "stderr",
          "text": [
            "<ipython-input-2-2bf31ad73e8f>:13: FutureWarning: The default value of regex will change from True to False in a future version.\n",
            "  df['review_month'] = df['review_month'].str.replace('\\d+', '')\n"
          ]
        }
      ]
    },
    {
      "cell_type": "code",
      "source": [
        "# Filling the null colums\n",
        "df['web_browser'] = df['web_browser'].fillna('unknown')\n",
        "df.isna().sum()\n",
        "df.head()"
      ],
      "metadata": {
        "id": "PRmsdFObLakL",
        "colab": {
          "base_uri": "https://localhost:8080/",
          "height": 206
        },
        "outputId": "2a8ad9ac-4972-4913-c7aa-2b13ec9ebc10"
      },
      "execution_count": null,
      "outputs": [
        {
          "output_type": "execute_result",
          "data": {
            "text/plain": [
              "   owned     make_model review_month web_browser reviewer_age primary_use  \\\n",
              "0      1   Nielah-Eyden          Oct      Chrome           23   Commuting   \n",
              "1      0  Nielah-Keetra          Jun     unknown           24   Commuting   \n",
              "2      0   Lunna-Keetra          Oct      Chrome           28   Commuting   \n",
              "3      1   Hoang-Keetra          Nov          IE           41     Leisure   \n",
              "4      1   Lunna-Keetra          Sep      Chrome           33     Leisure   \n",
              "\n",
              "  value_for_money  overall_rating  \n",
              "0               5           18.62  \n",
              "1               4           15.55  \n",
              "2               5           12.76  \n",
              "3               5           17.07  \n",
              "4               5           12.29  "
            ],
            "text/html": [
              "\n",
              "  <div id=\"df-d2e669d4-24fe-42a6-b3d5-83803cdd6932\">\n",
              "    <div class=\"colab-df-container\">\n",
              "      <div>\n",
              "<style scoped>\n",
              "    .dataframe tbody tr th:only-of-type {\n",
              "        vertical-align: middle;\n",
              "    }\n",
              "\n",
              "    .dataframe tbody tr th {\n",
              "        vertical-align: top;\n",
              "    }\n",
              "\n",
              "    .dataframe thead th {\n",
              "        text-align: right;\n",
              "    }\n",
              "</style>\n",
              "<table border=\"1\" class=\"dataframe\">\n",
              "  <thead>\n",
              "    <tr style=\"text-align: right;\">\n",
              "      <th></th>\n",
              "      <th>owned</th>\n",
              "      <th>make_model</th>\n",
              "      <th>review_month</th>\n",
              "      <th>web_browser</th>\n",
              "      <th>reviewer_age</th>\n",
              "      <th>primary_use</th>\n",
              "      <th>value_for_money</th>\n",
              "      <th>overall_rating</th>\n",
              "    </tr>\n",
              "  </thead>\n",
              "  <tbody>\n",
              "    <tr>\n",
              "      <th>0</th>\n",
              "      <td>1</td>\n",
              "      <td>Nielah-Eyden</td>\n",
              "      <td>Oct</td>\n",
              "      <td>Chrome</td>\n",
              "      <td>23</td>\n",
              "      <td>Commuting</td>\n",
              "      <td>5</td>\n",
              "      <td>18.62</td>\n",
              "    </tr>\n",
              "    <tr>\n",
              "      <th>1</th>\n",
              "      <td>0</td>\n",
              "      <td>Nielah-Keetra</td>\n",
              "      <td>Jun</td>\n",
              "      <td>unknown</td>\n",
              "      <td>24</td>\n",
              "      <td>Commuting</td>\n",
              "      <td>4</td>\n",
              "      <td>15.55</td>\n",
              "    </tr>\n",
              "    <tr>\n",
              "      <th>2</th>\n",
              "      <td>0</td>\n",
              "      <td>Lunna-Keetra</td>\n",
              "      <td>Oct</td>\n",
              "      <td>Chrome</td>\n",
              "      <td>28</td>\n",
              "      <td>Commuting</td>\n",
              "      <td>5</td>\n",
              "      <td>12.76</td>\n",
              "    </tr>\n",
              "    <tr>\n",
              "      <th>3</th>\n",
              "      <td>1</td>\n",
              "      <td>Hoang-Keetra</td>\n",
              "      <td>Nov</td>\n",
              "      <td>IE</td>\n",
              "      <td>41</td>\n",
              "      <td>Leisure</td>\n",
              "      <td>5</td>\n",
              "      <td>17.07</td>\n",
              "    </tr>\n",
              "    <tr>\n",
              "      <th>4</th>\n",
              "      <td>1</td>\n",
              "      <td>Lunna-Keetra</td>\n",
              "      <td>Sep</td>\n",
              "      <td>Chrome</td>\n",
              "      <td>33</td>\n",
              "      <td>Leisure</td>\n",
              "      <td>5</td>\n",
              "      <td>12.29</td>\n",
              "    </tr>\n",
              "  </tbody>\n",
              "</table>\n",
              "</div>\n",
              "      <button class=\"colab-df-convert\" onclick=\"convertToInteractive('df-d2e669d4-24fe-42a6-b3d5-83803cdd6932')\"\n",
              "              title=\"Convert this dataframe to an interactive table.\"\n",
              "              style=\"display:none;\">\n",
              "        \n",
              "  <svg xmlns=\"http://www.w3.org/2000/svg\" height=\"24px\"viewBox=\"0 0 24 24\"\n",
              "       width=\"24px\">\n",
              "    <path d=\"M0 0h24v24H0V0z\" fill=\"none\"/>\n",
              "    <path d=\"M18.56 5.44l.94 2.06.94-2.06 2.06-.94-2.06-.94-.94-2.06-.94 2.06-2.06.94zm-11 1L8.5 8.5l.94-2.06 2.06-.94-2.06-.94L8.5 2.5l-.94 2.06-2.06.94zm10 10l.94 2.06.94-2.06 2.06-.94-2.06-.94-.94-2.06-.94 2.06-2.06.94z\"/><path d=\"M17.41 7.96l-1.37-1.37c-.4-.4-.92-.59-1.43-.59-.52 0-1.04.2-1.43.59L10.3 9.45l-7.72 7.72c-.78.78-.78 2.05 0 2.83L4 21.41c.39.39.9.59 1.41.59.51 0 1.02-.2 1.41-.59l7.78-7.78 2.81-2.81c.8-.78.8-2.07 0-2.86zM5.41 20L4 18.59l7.72-7.72 1.47 1.35L5.41 20z\"/>\n",
              "  </svg>\n",
              "      </button>\n",
              "      \n",
              "  <style>\n",
              "    .colab-df-container {\n",
              "      display:flex;\n",
              "      flex-wrap:wrap;\n",
              "      gap: 12px;\n",
              "    }\n",
              "\n",
              "    .colab-df-convert {\n",
              "      background-color: #E8F0FE;\n",
              "      border: none;\n",
              "      border-radius: 50%;\n",
              "      cursor: pointer;\n",
              "      display: none;\n",
              "      fill: #1967D2;\n",
              "      height: 32px;\n",
              "      padding: 0 0 0 0;\n",
              "      width: 32px;\n",
              "    }\n",
              "\n",
              "    .colab-df-convert:hover {\n",
              "      background-color: #E2EBFA;\n",
              "      box-shadow: 0px 1px 2px rgba(60, 64, 67, 0.3), 0px 1px 3px 1px rgba(60, 64, 67, 0.15);\n",
              "      fill: #174EA6;\n",
              "    }\n",
              "\n",
              "    [theme=dark] .colab-df-convert {\n",
              "      background-color: #3B4455;\n",
              "      fill: #D2E3FC;\n",
              "    }\n",
              "\n",
              "    [theme=dark] .colab-df-convert:hover {\n",
              "      background-color: #434B5C;\n",
              "      box-shadow: 0px 1px 3px 1px rgba(0, 0, 0, 0.15);\n",
              "      filter: drop-shadow(0px 1px 2px rgba(0, 0, 0, 0.3));\n",
              "      fill: #FFFFFF;\n",
              "    }\n",
              "  </style>\n",
              "\n",
              "      <script>\n",
              "        const buttonEl =\n",
              "          document.querySelector('#df-d2e669d4-24fe-42a6-b3d5-83803cdd6932 button.colab-df-convert');\n",
              "        buttonEl.style.display =\n",
              "          google.colab.kernel.accessAllowed ? 'block' : 'none';\n",
              "\n",
              "        async function convertToInteractive(key) {\n",
              "          const element = document.querySelector('#df-d2e669d4-24fe-42a6-b3d5-83803cdd6932');\n",
              "          const dataTable =\n",
              "            await google.colab.kernel.invokeFunction('convertToInteractive',\n",
              "                                                     [key], {});\n",
              "          if (!dataTable) return;\n",
              "\n",
              "          const docLinkHtml = 'Like what you see? Visit the ' +\n",
              "            '<a target=\"_blank\" href=https://colab.research.google.com/notebooks/data_table.ipynb>data table notebook</a>'\n",
              "            + ' to learn more about interactive tables.';\n",
              "          element.innerHTML = '';\n",
              "          dataTable['output_type'] = 'display_data';\n",
              "          await google.colab.output.renderOutput(dataTable, element);\n",
              "          const docLink = document.createElement('div');\n",
              "          docLink.innerHTML = docLinkHtml;\n",
              "          element.appendChild(docLink);\n",
              "        }\n",
              "      </script>\n",
              "    </div>\n",
              "  </div>\n",
              "  "
            ]
          },
          "metadata": {},
          "execution_count": 3
        }
      ]
    },
    {
      "cell_type": "code",
      "source": [
        "# Checking further for unique missing values\n",
        "\n",
        "df['reviewer_age'].unique()\n",
        "\n",
        "# Replacing '-' values with zero to enable mean calculation\n",
        "\n",
        "df['reviewer_age'] = df['reviewer_age'].replace('-', 0)\n",
        "\n",
        "#Finding the mean and confirming the unique values\n",
        "\n",
        "reviewer_age_mean = df['reviewer_age'].astype('int').mean()\n",
        "df['reviewer_age'] = df['reviewer_age'].replace(0, reviewer_age_mean)\n",
        "df['reviewer_age'].unique()\n",
        "\n",
        "df['reviewer_age'] = df['reviewer_age'].astype('float')\n",
        "df['value_for_money'] = df['value_for_money'].astype('float')"
      ],
      "metadata": {
        "id": "0VPS1vIWLmoe"
      },
      "execution_count": null,
      "outputs": []
    },
    {
      "cell_type": "markdown",
      "source": [
        "## **Data Validation**\n",
        "\n",
        "The dataset contains 1500 rows and 8 columns with a few missing values. I have validated all the columns against the criteria in the dataset table:\n",
        "\n",
        "**owned**: Same as description without missing values, two categories.\n",
        "\n",
        "**make_model**: Same as description without missing values\n",
        "\n",
        "**review_month**: almost similar to description, but with a few columns having the day attached. So, I removed the day, leaving just the month.\n",
        "\n",
        "**web_browser**: Same as description, but with 150 missing values. So I replaced with 'unknown'\n",
        "\n",
        "**reviewer_age**: Same as description, but with 105 missing values indicated as '-'. So, I replaced the missing values with the mean of the column\n",
        "\n",
        "**primary_use**: Same as description, without missing values.\n",
        "\n",
        "**value_for_money**: Same as description, but including the highest rating as the denominator. So, I removed the '/10'.\n",
        "\n",
        "**overall_rating**: Same as description"
      ],
      "metadata": {
        "id": "fXvGrNQ6OnFm"
      }
    },
    {
      "cell_type": "markdown",
      "source": [
        "## Task 2\n",
        "## **Visualizing Reviews by Ownership**\n",
        "\n",
        "'0' represents people who do not own the bikes, while '1' represents bike owners.\n",
        "\n",
        "In the 'owned' category, the bike owners (where 'owned' == 1), has the most number of observations. This shows that people who own the bikes have put out more reviews in this dataset. \n",
        "\n",
        "The observations are relatively balanced across the category of the variable, 'owned'. The ratio (percentage) of owners to non-owners is 59:41.\n",
        "\n",
        "Also, from investigating different options: web browser, primary use and make model, we can see that Chrome users dropped the most reviews, owners of model Nielah-Eyden also dropped reviews more than any other model. \n",
        "\n",
        "People whose primary use was commuting also dropped more reviews than leisure users."
      ],
      "metadata": {
        "id": "KNjo0naFOxCn"
      }
    },
    {
      "cell_type": "code",
      "source": [
        "df['owned'] = df['owned'].astype('category')\n",
        "sns.countplot(x='owned', data=df, order=[0, 1])\n",
        "plt.ylim(0, 1000)\n",
        "plt.ylabel('Number of Reviews')\n",
        "plt.title('Number of Reviews vs Ownership Status')\n",
        "df.owned.value_counts(normalize=True)"
      ],
      "metadata": {
        "id": "QMWvErlMOmpR",
        "colab": {
          "base_uri": "https://localhost:8080/",
          "height": 524
        },
        "outputId": "11055929-1485-41dd-c1d0-fb94d8325331"
      },
      "execution_count": null,
      "outputs": [
        {
          "output_type": "execute_result",
          "data": {
            "text/plain": [
              "1    0.593333\n",
              "0    0.406667\n",
              "Name: owned, dtype: float64"
            ]
          },
          "metadata": {},
          "execution_count": 5
        },
        {
          "output_type": "display_data",
          "data": {
            "text/plain": [
              "<Figure size 640x480 with 1 Axes>"
            ],
            "image/png": "[encoded data removed]"
          },
          "metadata": {}
        }
      ]
    },
    {
      "cell_type": "code",
      "source": [
        "sns.countplot(x='owned', data=df, order=[0, 1], hue ='web_browser')\n",
        "plt.title('Number of Reviews vs Ownership in Web Browser Used')\n",
        "plt.ylabel('Number of Reviews')"
      ],
      "metadata": {
        "id": "drzD8pgkZi3x",
        "colab": {
          "base_uri": "https://localhost:8080/",
          "height": 489
        },
        "outputId": "b43e93d0-fd1d-4676-c9d6-e894384a8ccf"
      },
      "execution_count": null,
      "outputs": [
        {
          "output_type": "execute_result",
          "data": {
            "text/plain": [
              "Text(0, 0.5, 'Number of Reviews')"
            ]
          },
          "metadata": {},
          "execution_count": 6
        },
        {
          "output_type": "display_data",
          "data": {
            "text/plain": [
              "<Figure size 640x480 with 1 Axes>"
            ],
            "image/png": "[encoded data removed]"
          },
          "metadata": {}
        }
      ]
    },
    {
      "cell_type": "code",
      "source": [
        "sns.countplot(x='owned', data=df, order=[0, 1], hue ='make_model')\n",
        "plt.title('Number of Reviews vs Ownership in Make Model')\n",
        "plt.ylabel('Number of Reviews')"
      ],
      "metadata": {
        "id": "DL0ieVO6ZkCT",
        "colab": {
          "base_uri": "https://localhost:8080/",
          "height": 489
        },
        "outputId": "2913bc92-e0e9-4d2e-f794-3dc499ef7657"
      },
      "execution_count": null,
      "outputs": [
        {
          "output_type": "execute_result",
          "data": {
            "text/plain": [
              "Text(0, 0.5, 'Number of Reviews')"
            ]
          },
          "metadata": {},
          "execution_count": 7
        },
        {
          "output_type": "display_data",
          "data": {
            "text/plain": [
              "<Figure size 640x480 with 1 Axes>"
            ],
            "image/png": "[encoded data removed]"
          },
          "metadata": {}
        }
      ]
    },
    {
      "cell_type": "code",
      "source": [
        "sns.countplot(x='owned', data=df, order=[0, 1], hue ='primary_use')\n",
        "plt.title('Number of Reviews vs Ownership in Primary Use')\n",
        "plt.ylabel('Number of Reviews')"
      ],
      "metadata": {
        "id": "rUZi_VCkZrXx",
        "colab": {
          "base_uri": "https://localhost:8080/",
          "height": 489
        },
        "outputId": "77b01331-622a-413c-fec3-34c5ca9646fe"
      },
      "execution_count": null,
      "outputs": [
        {
          "output_type": "execute_result",
          "data": {
            "text/plain": [
              "Text(0, 0.5, 'Number of Reviews')"
            ]
          },
          "metadata": {},
          "execution_count": 8
        },
        {
          "output_type": "display_data",
          "data": {
            "text/plain": [
              "<Figure size 640x480 with 1 Axes>"
            ],
            "image/png": "[encoded data removed]"
          },
          "metadata": {}
        }
      ]
    },
    {
      "cell_type": "markdown",
      "source": [
        "## Task 3\n",
        "## Distribution of Overall Rating\n",
        "\n",
        "The distribution of rating shows that the minimum and maximum overall ratings are 11.69 and 22.76 respectively, while it has a median of 18.24 which is also its upper quartile. Majority of the ratings are between 15.32 and 18.84. The median is also closer to the upper quartile, showing that the mean ratings over 18.24 are higher than those less than 18.24."
      ],
      "metadata": {
        "id": "8zwvN4p3ZwUE"
      }
    },
    {
      "cell_type": "code",
      "source": [
        "sns.set_style(\"whitegrid\")\n",
        "sns.boxplot(x='overall_rating', data=df)\n",
        "plt.title('The Distribution of Overall Rating')\n",
        "df['overall_rating'].describe()"
      ],
      "metadata": {
        "id": "oRz0dDOiZ3UL",
        "colab": {
          "base_uri": "https://localhost:8080/",
          "height": 628
        },
        "outputId": "ebe8eebd-87d3-499e-8767-22be463ea043"
      },
      "execution_count": null,
      "outputs": [
        {
          "output_type": "execute_result",
          "data": {
            "text/plain": [
              "count    1500.000000\n",
              "mean       17.138907\n",
              "std         2.445566\n",
              "min        11.690000\n",
              "25%        15.320000\n",
              "50%        18.240000\n",
              "75%        18.840000\n",
              "max        22.760000\n",
              "Name: overall_rating, dtype: float64"
            ]
          },
          "metadata": {},
          "execution_count": 9
        },
        {
          "output_type": "display_data",
          "data": {
            "text/plain": [
              "<Figure size 640x480 with 1 Axes>"
            ],
            "image/png": "[encoded data removed]"
          },
          "metadata": {}
        }
      ]
    },
    {
      "cell_type": "markdown",
      "source": [
        "## Task 4\n",
        "## Relationship between Ownership and Overall Rating\n",
        "\n",
        "The boxplot below shows that, on an average, owners are much more likely to give a higher overall rating than non-owners. The median overall rating for the owners is about the same level as the upper quartile for non-owners. \n",
        "\n",
        "The interquartile range (IQR) of overall rating for non-owners falls between 14.5 and 18.5, while owners' IQR fell between 17  and 19. Asides from a few outliers, owners overall rating had a lesser spread, with most of them being higher ratings compared to non-owners.\n"
      ],
      "metadata": {
        "id": "fkfDCXn6aDH2"
      }
    },
    {
      "cell_type": "code",
      "source": [
        "sns.boxplot(x='owned', y='overall_rating', data=df)"
      ],
      "metadata": {
        "id": "ChTmx6116YQU",
        "colab": {
          "base_uri": "https://localhost:8080/",
          "height": 466
        },
        "outputId": "e411f4e9-690d-4d91-e86d-961e76a6cff5"
      },
      "execution_count": null,
      "outputs": [
        {
          "output_type": "execute_result",
          "data": {
            "text/plain": [
              "<Axes: xlabel='owned', ylabel='overall_rating'>"
            ]
          },
          "metadata": {},
          "execution_count": 10
        },
        {
          "output_type": "display_data",
          "data": {
            "text/plain": [
              "<Figure size 640x480 with 1 Axes>"
            ],
            "image/png": "[encoded data removed]"
          },
          "metadata": {}
        }
      ]
    },
    {
      "cell_type": "markdown",
      "source": [
        "## Task 5\n",
        "## **Identifying the Machine Learning Problem**\n",
        "\n",
        "Predicting whether a review came from an owner or not is a classification problem. It is a binary classification problem because there are only two distinct outcomes: owned or not, represented as 1 and 0 respectively. "
      ],
      "metadata": {
        "id": "KzVTAZnu9v0X"
      }
    },
    {
      "cell_type": "markdown",
      "source": [
        "## Task 6\n",
        "## Fitting the Baseline Model (Logistic Regression)"
      ],
      "metadata": {
        "id": "UCHvDSRs9xRe"
      }
    },
    {
      "cell_type": "code",
      "source": [
        "#import ML models and peformance metrics\n",
        "from sklearn.linear_model import LogisticRegression \n",
        "from sklearn.tree import DecisionTreeClassifier \n",
        "from sklearn.model_selection import train_test_split \n",
        "from sklearn.metrics import classification_report\n",
        "\n",
        "# Changing values to numeric values\n",
        "df['reviewer_age'] = df['reviewer_age'].astype('float')\n",
        "df['value_for_money'] = df['value_for_money'].astype('float')\n",
        "\n",
        "# Encoding Dummy variables\n",
        "features = df.drop('owned', axis = 1)\n",
        "df_dummies= pd.get_dummies(features)\n",
        "\n",
        "X = df_dummies.values\n",
        "y = df['owned'].values\n",
        "\n",
        "# Splitting the data\n",
        "X_train, X_test, y_train, y_test = train_test_split(X, y, test_size=0.2, random_state=21)\n",
        "\n",
        "# Fitting the Logistic Regression Model\n",
        "logreg = LogisticRegression()\n",
        "logreg.fit(X_train,y_train)\n",
        "y_pred_log = logreg.predict(X_test)"
      ],
      "metadata": {
        "colab": {
          "base_uri": "https://localhost:8080/"
        },
        "id": "pkwvow3G9o7d",
        "outputId": "b40ef2fd-7f6e-4d42-e468-13fd04cdf509"
      },
      "execution_count": null,
      "outputs": [
        {
          "output_type": "stream",
          "name": "stderr",
          "text": [
            "/usr/local/lib/python3.10/dist-packages/sklearn/linear_model/_logistic.py:458: ConvergenceWarning: lbfgs failed to converge (status=1):\n",
            "STOP: TOTAL NO. of ITERATIONS REACHED LIMIT.\n",
            "\n",
            "Increase the number of iterations (max_iter) or scale the data as shown in:\n",
            "    https://scikit-learn.org/stable/modules/preprocessing.html\n",
            "Please also refer to the documentation for alternative solver options:\n",
            "    https://scikit-learn.org/stable/modules/linear_model.html#logistic-regression\n",
            "  n_iter_i = _check_optimize_result(\n"
          ]
        }
      ]
    },
    {
      "cell_type": "code",
      "source": [
        "# Create Decision Tree classifer object\n",
        "clf = DecisionTreeClassifier()\n",
        "clf = clf.fit(X_train,y_train)\n",
        "y_pred_clf = clf.predict(X_test)"
      ],
      "metadata": {
        "id": "XZ5IyYfm-KsG"
      },
      "execution_count": null,
      "outputs": []
    },
    {
      "cell_type": "markdown",
      "source": [
        "## Task 8\n",
        "## Models Used for Evaluation\n",
        "\n",
        "I used the Logistic Regression model as the basline model because it is a simple and efficient method that is ideal for binary classifications. I chose the Decision Tree Model as a comparison model because it is very efficient to train and interpret, and is ideal for numerical and categorical data. \n",
        "\n"
      ],
      "metadata": {
        "id": "Qy_pn7Uu-T4V"
      }
    },
    {
      "cell_type": "markdown",
      "source": [
        "## Task 9\n",
        "## Estimating Model Performance\n",
        "\n",
        "The performance of the model is going to be evaluated using accuracy. Accuracy is one of the most ideal model performance evaluators for a classification especially because it measures how often the classifier predicts results correctly. \n",
        "\n",
        "Also, the target class is well balanced to reduce the risk of bias. This makes accuracy an ideal predictor."
      ],
      "metadata": {
        "id": "AyErkZmY-Vvz"
      }
    },
    {
      "cell_type": "markdown",
      "source": [
        "\n",
        "## Logistic Regression Model Evaluation:\n"
      ],
      "metadata": {
        "id": "7NkdCD7c-e7a"
      }
    },
    {
      "cell_type": "code",
      "source": [
        "print(classification_report(y_test, y_pred_log))"
      ],
      "metadata": {
        "colab": {
          "base_uri": "https://localhost:8080/"
        },
        "id": "bbfXx3_U-NMQ",
        "outputId": "1da72422-fb4a-47b8-d78d-3eb1b779abef"
      },
      "execution_count": null,
      "outputs": [
        {
          "output_type": "stream",
          "name": "stdout",
          "text": [
            "              precision    recall  f1-score   support\n",
            "\n",
            "           0       0.72      0.59      0.64       116\n",
            "           1       0.77      0.85      0.81       184\n",
            "\n",
            "    accuracy                           0.75       300\n",
            "   macro avg       0.74      0.72      0.73       300\n",
            "weighted avg       0.75      0.75      0.74       300\n",
            "\n"
          ]
        }
      ]
    },
    {
      "cell_type": "markdown",
      "source": [
        "\n",
        "## Decision Tree Model Evaluation:\n"
      ],
      "metadata": {
        "id": "UXx3MRvH-mpE"
      }
    },
    {
      "cell_type": "code",
      "source": [
        "print(classification_report(y_test, y_pred_clf))"
      ],
      "metadata": {
        "colab": {
          "base_uri": "https://localhost:8080/"
        },
        "id": "3w1S7VXg-tC_",
        "outputId": "10057346-b38e-4f40-c278-6486c05adbf8"
      },
      "execution_count": null,
      "outputs": [
        {
          "output_type": "stream",
          "name": "stdout",
          "text": [
            "              precision    recall  f1-score   support\n",
            "\n",
            "           0       0.59      0.56      0.58       116\n",
            "           1       0.73      0.76      0.74       184\n",
            "\n",
            "    accuracy                           0.68       300\n",
            "   macro avg       0.66      0.66      0.66       300\n",
            "weighted avg       0.68      0.68      0.68       300\n",
            "\n"
          ]
        }
      ]
    },
    {
      "cell_type": "markdown",
      "source": [
        "## Task 10\n",
        "## Explaining Model Performance\n",
        "\n",
        "The accuracy of the Logistic Regression Model, 0.74, is higher than that of the Decision Tree Model, 0.67, which shows that the Logistic Regression Model which is the baseline model used, performs better than the Desicion Tree and it predicts more correctly whether a review came from an owner or not. \n",
        "\n",
        "Accuracy represents the number of correctly classified data instances over the total number of data instances, and The Logistic Regression Model gives a better performance."
      ],
      "metadata": {
        "id": "vUh0M3b8-1FM"
      }
    }
  ]
}